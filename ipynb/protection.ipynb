{
 "cells": [
  {
   "cell_type": "code",
   "execution_count": 6,
   "id": "a1881324",
   "metadata": {},
   "outputs": [],
   "source": [
    "import requests\n",
    "from datetime import datetime, timezone\n"
   ]
  },
  {
   "cell_type": "code",
   "execution_count": 7,
   "id": "fe6e2d57",
   "metadata": {},
   "outputs": [],
   "source": [
    "\n",
    "\n",
    "API_URL = \"https://fr.wikipedia.org/w/api.php\"\n",
    "session = requests.Session()\n",
    "session.headers.update({\n",
    "    \"User-Agent\": \"Mozilla/5.0 (https://github.com/aureliusLF; alefichoux@gmail.com)\"\n",
    "})\n",
    "\n"
   ]
  },
  {
   "cell_type": "code",
   "execution_count": 8,
   "id": "0f6ff1b7",
   "metadata": {},
   "outputs": [],
   "source": [
    "\n",
    "# 1. Liste des pages à interroger\n",
    "titles = [\"Vladimir_Poutine\"]\n",
    "\n",
    "# 2. Construction du paramètre \"titles\" avec une seule requête\n",
    "params = {\n",
    "    \"action\": \"query\",\n",
    "    \"format\": \"json\",\n",
    "    \"prop\": \"info|extracts\",\n",
    "    \"inprop\": \"protection\",\n",
    "    \"titles\": \"|\".join(titles),     \n",
    "    \"exintro\": True,\n",
    "    \"explaintext\": True\n",
    "}\n",
    "\n",
    "response = session.get(API_URL, params=params)\n",
    "response.raise_for_status()\n",
    "data = response.json()\n",
    "\n"
   ]
  },
  {
   "cell_type": "code",
   "execution_count": 9,
   "id": "0d533bfa",
   "metadata": {},
   "outputs": [
    {
     "name": "stdout",
     "output_type": "stream",
     "text": [
      "\n",
      "=== Vladimir Poutine ===\n",
      "\n",
      "Introduction :\n",
      "Vladimir Vladimirovitch Poutine (en russe : Влади́мир Влади́мирович Пу́тин [vɫɐˈdʲimʲɪr vɫɐˈdʲimʲɪrəvʲɪt͡ɕ ˈputʲɪn] ), né le 7 octobre 1952 à Léningrad (aujourd'hui Saint-Pétersbourg), est un homme d'État russe. Depuis 1999, il est la figure centrale de l'exécutif de la nation russe, alternativement comme président du gouvernement (1999-2000 et 2008-2012) et président de la fédération de Russie (par intérim de 1999 à 2000 et de plein exercice de 2000 à 2008 ainsi que depuis 2012).\n",
      "Officier du KGB, principal service de renseignement de l'URSS, il est en poste à Dresde au moment de la chute du mur de Berlin. Il commence sa carrière politique à la mairie de Saint-Pétersbourg, puis devient l'un des plus proches conseillers du Président Boris Eltsine, qui fait de lui le directeur du Service fédéral de sécurité (ex-KGB) en 1998, puis le président du gouvernement de la Russie l'année suivante.\n",
      "À partir du 31 décembre 1999, à la suite de la démission de Boris Eltsine, il assure les fonctions de président de la fédération de Russie par intérim. Il devient président de plein exercice le 7 mai 2000, après avoir remporté l'élection présidentielle anticipée. Au cours de son premier mandat, il lance une série de réformes importantes pour restaurer la puissance d'un pays en crise économique qui a perdu de son influence dans le monde. Il mène le redressement de l'économie nationale et une politique institutionnelle tournée vers la concentration des pouvoirs présidentiels. Il est largement réélu en 2004.\n",
      "En 2008, la Constitution lui interdisant de concourir pour un troisième mandat consécutif, il soutient la candidature à la présidence de son premier vice-président du gouvernement, Dmitri Medvedev. Une fois élu chef de l'État, ce dernier nomme Poutine président du gouvernement, qui prend par ailleurs la direction du parti Russie unie et reste l'homme fort du pays, avec un président apparaissant comme plus libéral. Fréquemment accusé d'autoritarisme, Poutine est pour la première fois significativement contesté à la suite des élections législatives de 2011.\n",
      "Candidat à l'élection présidentielle de 2012 avec le soutien du sortant Medvedev, il retrouve la présidence pour un mandat allongé à six ans. Au cours de cette période, il entend restaurer l'influence russe sur la scène internationale. D'une part, en 2014, dans le cadre de la guerre du Donbass et à la suite d'un référendum local contesté, il annexe la république autonome de Crimée, appartenant à l'Ukraine, un acte considéré comme violant le droit international. D'autre part, il envoie un corps expéditionnaire combattre dans la guerre civile syrienne, en soutien au régime de Bachar el-Assad.\n",
      "Il est élu pour un quatrième mandat à l'issue de l'élection présidentielle de 2018. Deux ans plus tard, il fait adopter par référendum la non-limitation des mandats présidentiels dans le temps, ce qui lui permettrait de se maintenir jusqu'en 2036 au pouvoir. En février 2022, il déclenche l'invasion militaire de l'Ukraine après avoir reconnu les républiques séparatistes de Donetsk et de Lougansk. Quelques mois plus tard, il annonce la mobilisation partielle, procède à l'annexion de quatre régions de l'est et du sud de l’Ukraine, et menace de l'utilisation de l'arme nucléaire. En 2023, la Cour pénale internationale émet à son encontre un mandat d'arrêt pour crimes de guerre et transfert illégal d'enfants ukrainiens. Il est largement réélu en mars 2024 pour un cinquième mandat, à la suite d'une campagne et d'élections ni libres ni transparentes.\n",
      "Sous la gouvernance de Vladimir Poutine, la Russie a connu une érosion démocratique et un glissement vers l'autoritarisme. Le pays est caractérisé par une corruption endémique ainsi que par de nombreuses atteintes aux droits de l'homme, dont l'emprisonnement et la répression voire l'assassinat d'opposants politiques, l'intimidation et la suppression de médias indépendants, et l'absence d'élections libres. En 2024, Vladimir Poutine est le deuxième président européen ayant le plus long mandat, après Alexandre Loukachenko de Biélorussie. \n",
      "\n",
      "🔒 Protections actives :\n",
      " • Pour modifier, niveau requis « editextendedsemiprotected », jusqu'au indéfiniment.\n",
      " • Pour déplacer, niveau requis « editextendedsemiprotected », jusqu'au indéfiniment.\n"
     ]
    }
   ],
   "source": [
    "\n",
    "\n",
    "if \"error\" in data:\n",
    "    print(\"Error:\", data[\"error\"][\"info\"])\n",
    "else:\n",
    "    pages = data[\"query\"][\"pages\"]\n",
    "    # 3. Parcours de chaque page retournée\n",
    "    for page in pages.values():\n",
    "        print(\"\\n===\", page.get(\"title\", \"(sans titre)\"), \"===\")\n",
    "        print(\"\\nIntroduction :\")\n",
    "        print(page.get(\"extract\", \"(pas d’extrait)\"), \"\\n\")\n",
    "\n",
    "        protections = page.get(\"protection\", [])\n",
    "        if not protections:\n",
    "            print(\"🔓 Cette page n'est pas protégée.\")\n",
    "        else:\n",
    "            print(\"🔒 Protections actives :\")\n",
    "            for prot in protections:\n",
    "                if prot[\"expiry\"] == \"infinity\":\n",
    "                    expiry_str = \"indéfiniment\"\n",
    "                else:\n",
    "                    dt = datetime.fromisoformat(prot[\"expiry\"].replace(\"Z\", \"+00:00\"))\n",
    "                    expiry_str = dt.astimezone(timezone.utc).strftime(\"%d %B %Y à %H:%M UTC\")\n",
    "                action = \"modifier\" if prot[\"type\"] == \"edit\" else \"déplacer\"\n",
    "                print(f\" • Pour {action}, niveau requis « {prot['level']} », jusqu'au {expiry_str}.\")\n",
    "\n",
    "\n"
   ]
  }
 ],
 "metadata": {
  "kernelspec": {
   "display_name": "mon_env",
   "language": "python",
   "name": "python3"
  },
  "language_info": {
   "codemirror_mode": {
    "name": "ipython",
    "version": 3
   },
   "file_extension": ".py",
   "mimetype": "text/x-python",
   "name": "python",
   "nbconvert_exporter": "python",
   "pygments_lexer": "ipython3",
   "version": "3.12.3"
  }
 },
 "nbformat": 4,
 "nbformat_minor": 5
}
