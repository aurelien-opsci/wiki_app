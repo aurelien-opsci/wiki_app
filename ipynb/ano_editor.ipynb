{
 "cells": [
  {
   "cell_type": "code",
   "execution_count": 2,
   "id": "bc23a524",
   "metadata": {},
   "outputs": [],
   "source": [
    "import requests\n"
   ]
  },
  {
   "cell_type": "code",
   "execution_count": 3,
   "id": "0ad7237c",
   "metadata": {},
   "outputs": [],
   "source": [
    "\n",
    "API_URL = \"https://fr.wikipedia.org/w/api.php\"\n",
    "UA = \"AnonEditStatBot/1.0 (mailto:ton.email@example.com)\"\n"
   ]
  },
  {
   "cell_type": "code",
   "execution_count": 4,
   "id": "4b4147a1",
   "metadata": {},
   "outputs": [],
   "source": [
    "\n",
    "def anon_edit_percentage(page_title: str, start: str, end: str):\n",
    "    \"\"\"\n",
    "    Calcule la % d'éditions anonymes (IP) sur la page page_title,\n",
    "    entre les dates start et end (format 'YYYY-MM-DD').\n",
    "    \"\"\"\n",
    "    session = requests.Session()\n",
    "    session.headers.update({\"User-Agent\": UA})\n",
    "    \n",
    "    params = {\n",
    "        \"action\":    \"query\",\n",
    "        \"format\":    \"json\",\n",
    "        \"prop\":      \"revisions\",\n",
    "        \"titles\":    page_title,\n",
    "        \"rvstart\":    f\"{end}T23:59:59Z\",\n",
    "        \"rvend\":      f\"{start}T00:00:00Z\",\n",
    "        \"rvprop\":    \"user|flags|timestamp\",\n",
    "        \"rvlimit\":   \"max\",\n",
    "        \"continue\":  \"\"\n",
    "    }\n",
    "    \n",
    "    total = 0\n",
    "    anon  = 0\n",
    "    \n",
    "    while True:\n",
    "        resp = session.get(API_URL, params=params)\n",
    "        resp.raise_for_status()\n",
    "        data = resp.json()\n",
    "        \n",
    "        pages = data.get(\"query\", {}).get(\"pages\", {})\n",
    "        for p in pages.values():\n",
    "            for rev in p.get(\"revisions\", []):\n",
    "                total += 1\n",
    "                if \"anon\" in rev:\n",
    "                    anon += 1\n",
    "        \n",
    "        if \"continue\" in data:\n",
    "            params.update(data[\"continue\"])\n",
    "        else:\n",
    "            break\n",
    "    \n",
    "    if total == 0:\n",
    "        return 0.0, anon, total\n",
    "    pct = (anon / total) * 100\n",
    "    return pct, anon, total\n"
   ]
  },
  {
   "cell_type": "code",
   "execution_count": 5,
   "id": "dbee7b3f",
   "metadata": {},
   "outputs": [
    {
     "name": "stdout",
     "output_type": "stream",
     "text": [
      "Sur « Guerre » du 2024-01-01 au 2025-01-01 :\n",
      " • 116 éditions anonymes sur 184 au total\n",
      " • soit 63.0% d’éditions par IP/comptes non-enregistrés\n"
     ]
    }
   ],
   "source": [
    "\n",
    "if __name__ == \"__main__\":\n",
    "    page  = \"Guerre\"\n",
    "    start = \"2024-01-01\"\n",
    "    end   = \"2025-01-01\"\n",
    "    pct, anon, tot = anon_edit_percentage(page, start, end)\n",
    "    print(f\"Sur « {page} » du {start} au {end} :\")\n",
    "    print(f\" • {anon} éditions anonymes sur {tot} au total\")\n",
    "    print(f\" • soit {pct:.1f}% d’éditions par IP/comptes non-enregistrés\")\n"
   ]
  }
 ],
 "metadata": {
  "kernelspec": {
   "display_name": "mon_env",
   "language": "python",
   "name": "python3"
  },
  "language_info": {
   "codemirror_mode": {
    "name": "ipython",
    "version": 3
   },
   "file_extension": ".py",
   "mimetype": "text/x-python",
   "name": "python",
   "nbconvert_exporter": "python",
   "pygments_lexer": "ipython3",
   "version": "3.12.3"
  }
 },
 "nbformat": 4,
 "nbformat_minor": 5
}
