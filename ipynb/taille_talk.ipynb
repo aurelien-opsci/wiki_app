{
 "cells": [
  {
   "cell_type": "code",
   "execution_count": 1,
   "id": "8337860b",
   "metadata": {},
   "outputs": [],
   "source": [
    "import requests\n"
   ]
  },
  {
   "cell_type": "code",
   "execution_count": 2,
   "id": "c1839811",
   "metadata": {},
   "outputs": [],
   "source": [
    "\n",
    "API_URL = \"https://fr.wikipedia.org/w/api.php\"\n",
    "USER_AGENT = \"TalkPageSizeBot/1.0 (mailto:alefichoux@gmail.com)\"\n"
   ]
  },
  {
   "cell_type": "code",
   "execution_count": 3,
   "id": "0b216e2a",
   "metadata": {},
   "outputs": [],
   "source": [
    "\n",
    "def get_talkpage_size(base_title: str) -> int:\n",
    "    \"\"\"\n",
    "    Récupère le contenu de la page de discussion 'Discussion:<base_title>' \n",
    "    et renvoie sa taille en caractères.\n",
    "    \"\"\"\n",
    "    talk_title = f\"Discussion:{base_title}\"\n",
    "    params = {\n",
    "        \"action\":    \"query\",\n",
    "        \"format\":    \"json\",\n",
    "        \"prop\":      \"revisions\",\n",
    "        \"titles\":    talk_title,\n",
    "        \"rvslots\":   \"main\",\n",
    "        \"rvprop\":    \"content\",\n",
    "        \"redirects\": 1\n",
    "    }\n",
    "    headers = {\"User-Agent\": USER_AGENT}\n",
    "    resp = requests.get(API_URL, params=params, headers=headers)\n",
    "    resp.raise_for_status()\n",
    "    data = resp.json()\n",
    "\n",
    "    pages = data[\"query\"][\"pages\"]\n",
    "    page = next(iter(pages.values()))\n",
    "    if \"revisions\" not in page:\n",
    "        raise ValueError(f\"Aucune discussion trouvée pour '{talk_title}'\")\n",
    "    content = page[\"revisions\"][0][\"slots\"][\"main\"][\"*\"] or \"\"\n",
    "    return len(content)\n",
    "\n"
   ]
  },
  {
   "cell_type": "code",
   "execution_count": 4,
   "id": "84d5f661",
   "metadata": {},
   "outputs": [
    {
     "name": "stdout",
     "output_type": "stream",
     "text": [
      "Talk-page « Discussion:Pandémie de Covid-19 » → 8056 caractères\n"
     ]
    }
   ],
   "source": [
    "\n",
    "\n",
    "if __name__ == \"__main__\":\n",
    "    for titre in [\"Pandémie de Covid-19\"]:\n",
    "        try:\n",
    "            taille = get_talkpage_size(titre)\n",
    "            print(f\"Talk-page « Discussion:{titre} » → {taille} caractères\")\n",
    "        except Exception as e:\n",
    "            print(f\"Erreur pour '{titre}':\", e)\n"
   ]
  }
 ],
 "metadata": {
  "kernelspec": {
   "display_name": "mon_env",
   "language": "python",
   "name": "python3"
  },
  "language_info": {
   "codemirror_mode": {
    "name": "ipython",
    "version": 3
   },
   "file_extension": ".py",
   "mimetype": "text/x-python",
   "name": "python",
   "nbconvert_exporter": "python",
   "pygments_lexer": "ipython3",
   "version": "3.12.3"
  }
 },
 "nbformat": 4,
 "nbformat_minor": 5
}
