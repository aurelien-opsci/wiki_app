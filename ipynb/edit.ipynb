{
 "cells": [
  {
   "cell_type": "code",
   "execution_count": 34,
   "id": "6dc1b57b",
   "metadata": {},
   "outputs": [],
   "source": [
    "import requests\n",
    "import pandas as pd\n",
    "import time\n",
    "from datetime import datetime\n",
    "import plotly.express as px\n",
    "from requests.utils import quote\n"
   ]
  },
  {
   "cell_type": "code",
   "execution_count": null,
   "id": "fe295533",
   "metadata": {},
   "outputs": [],
   "source": [
    "\n",
    "UA = \"EditTrendBot/1.0 (contact@example.com)\"\n",
    "session = requests.Session()\n",
    "session.headers.update({\"User-Agent\": UA, \"Accept\": \"application/json\"})\n"
   ]
  },
  {
   "cell_type": "code",
   "execution_count": null,
   "id": "d107c253",
   "metadata": {},
   "outputs": [],
   "source": [
    "\n",
    "def pageedits(site, page, start, end, editor_type=\"user\"):\n",
    "    start_ts = datetime.strptime(start, \"%Y-%m-%d\").strftime(\"%Y%m%d\")\n",
    "    end_ts   = datetime.strptime(end,   \"%Y-%m-%d\").strftime(\"%Y%m%d\")\n",
    "    encoded = quote(page, safe='')\n",
    "    url = (\n",
    "        f\"https://wikimedia.org/api/rest_v1/metrics/edits/per-page/\"\n",
    "        f\"{site}/{encoded}/{editor_type}/daily/{start_ts}/{end_ts}\"\n",
    "    )\n",
    "    resp = session.get(url, timeout=30)\n",
    "    resp.raise_for_status()\n",
    "    data = resp.json()\n",
    "\n",
    "    items = data.get(\"items\", [])\n",
    "    if not items or not items[0].get(\"results\"):\n",
    "        return pd.DataFrame(columns=[\"date\", \"edits\", \"page\"])\n",
    "\n",
    "    results = items[0][\"results\"]\n",
    "    sample = results[0]\n",
    "    key = \"count\" if \"count\" in sample else (\"edits\" if \"edits\" in sample else None)\n",
    "    if key is None:\n",
    "        raise KeyError(f\"Pas de clé 'count' ou 'edits' dans {sample.keys()}\")\n",
    "\n",
    "    return pd.DataFrame({\n",
    "        \"date\":  pd.to_datetime([r[\"timestamp\"] for r in results], utc=True),\n",
    "        \"edits\": [r.get(key, 0) for r in results],\n",
    "        \"page\":  page\n",
    "    })\n",
    "    \n"
   ]
  },
  {
   "cell_type": "code",
   "execution_count": null,
   "id": "5f578f4b",
   "metadata": {},
   "outputs": [],
   "source": [
    "# Fetch edits for a list of pages\n",
    "# and concatenate the results into a single DataFrame\n",
    "def fetch_edit_pages(site, pages, start, end, editor_type=\"user\"):\n",
    "    dfs = []\n",
    "    for p in pages:\n",
    "        dfs.append(pageedits(site, p, start, end, editor_type))\n",
    "        time.sleep(0.1)\n",
    "    return pd.concat(dfs, ignore_index=True)\n",
    "\n"
   ]
  },
  {
   "cell_type": "code",
   "execution_count": 38,
   "id": "b95df943",
   "metadata": {},
   "outputs": [],
   "source": [
    "\n",
    "# Paramètres\n",
    "site   = \"fr.wikipedia.org\"\n",
    "pages  = [\"Emmanuel Macron\", \"Marine Le Pen\", \"Jean-Luc Mélenchon\"]\n",
    "start  = \"2025-1-01\"\n",
    "end    = \"2025-05-01\"\n",
    "editor = \"user\"\n"
   ]
  },
  {
   "cell_type": "code",
   "execution_count": 39,
   "id": "4451afd1",
   "metadata": {},
   "outputs": [
    {
     "data": {
      "application/vnd.plotly.v1+json": {
       "config": {
        "plotlyServerURL": "https://plot.ly"
       },
       "data": [
        {
         "hovertemplate": "page=Emmanuel Macron<br>Date=%{x}<br>Éditions/jour=%{y}<extra></extra>",
         "legendgroup": "Emmanuel Macron",
         "line": {
          "color": "#636efa",
          "dash": "solid"
         },
         "marker": {
          "symbol": "circle"
         },
         "mode": "lines",
         "name": "Emmanuel Macron",
         "orientation": "v",
         "showlegend": true,
         "type": "scatter",
         "x": [
          "2025-01-01T00:00:00",
          "2025-01-02T00:00:00",
          "2025-01-04T00:00:00",
          "2025-01-11T00:00:00",
          "2025-01-12T00:00:00",
          "2025-01-15T00:00:00",
          "2025-01-17T00:00:00",
          "2025-01-19T00:00:00",
          "2025-01-21T00:00:00",
          "2025-01-24T00:00:00",
          "2025-01-25T00:00:00",
          "2025-01-26T00:00:00",
          "2025-01-27T00:00:00",
          "2025-01-28T00:00:00",
          "2025-01-29T00:00:00",
          "2025-02-06T00:00:00",
          "2025-02-07T00:00:00",
          "2025-02-13T00:00:00",
          "2025-02-20T00:00:00",
          "2025-02-21T00:00:00",
          "2025-02-23T00:00:00",
          "2025-02-26T00:00:00",
          "2025-02-27T00:00:00",
          "2025-02-28T00:00:00",
          "2025-03-01T00:00:00",
          "2025-03-04T00:00:00",
          "2025-03-05T00:00:00",
          "2025-03-08T00:00:00",
          "2025-03-10T00:00:00",
          "2025-03-13T00:00:00",
          "2025-03-15T00:00:00",
          "2025-03-18T00:00:00",
          "2025-03-19T00:00:00",
          "2025-03-27T00:00:00",
          "2025-03-29T00:00:00",
          "2025-04-01T00:00:00",
          "2025-04-02T00:00:00",
          "2025-04-03T00:00:00",
          "2025-04-06T00:00:00",
          "2025-04-07T00:00:00",
          "2025-04-10T00:00:00",
          "2025-04-14T00:00:00",
          "2025-04-21T00:00:00"
         ],
         "xaxis": "x",
         "y": {
          "bdata": "AQEBAgUBBAEBAQEDAQICAQIBAQIBAQEBAQICAQMHBwICAgECAwIBAQEBAQ==",
          "dtype": "i1"
         },
         "yaxis": "y"
        },
        {
         "hovertemplate": "page=Marine Le Pen<br>Date=%{x}<br>Éditions/jour=%{y}<extra></extra>",
         "legendgroup": "Marine Le Pen",
         "line": {
          "color": "#EF553B",
          "dash": "solid"
         },
         "marker": {
          "symbol": "circle"
         },
         "mode": "lines",
         "name": "Marine Le Pen",
         "orientation": "v",
         "showlegend": true,
         "type": "scatter",
         "x": [
          "2025-01-01T00:00:00",
          "2025-01-05T00:00:00",
          "2025-01-06T00:00:00",
          "2025-01-08T00:00:00",
          "2025-01-09T00:00:00",
          "2025-01-11T00:00:00",
          "2025-01-12T00:00:00",
          "2025-01-13T00:00:00",
          "2025-01-16T00:00:00",
          "2025-01-18T00:00:00",
          "2025-01-23T00:00:00",
          "2025-01-26T00:00:00",
          "2025-02-13T00:00:00",
          "2025-02-14T00:00:00",
          "2025-02-15T00:00:00",
          "2025-02-19T00:00:00",
          "2025-03-08T00:00:00",
          "2025-03-09T00:00:00",
          "2025-03-10T00:00:00",
          "2025-03-14T00:00:00",
          "2025-03-16T00:00:00",
          "2025-03-17T00:00:00",
          "2025-03-20T00:00:00",
          "2025-03-30T00:00:00",
          "2025-03-31T00:00:00",
          "2025-04-01T00:00:00",
          "2025-04-02T00:00:00",
          "2025-04-03T00:00:00",
          "2025-04-07T00:00:00",
          "2025-04-09T00:00:00",
          "2025-04-11T00:00:00",
          "2025-04-12T00:00:00",
          "2025-04-13T00:00:00",
          "2025-04-18T00:00:00",
          "2025-04-19T00:00:00",
          "2025-04-22T00:00:00",
          "2025-04-23T00:00:00",
          "2025-04-26T00:00:00",
          "2025-04-29T00:00:00",
          "2025-04-30T00:00:00"
         ],
         "xaxis": "x",
         "y": {
          "bdata": "AQECAgIDAQIBAQICAwIBAQMKAQIDAQMDHxMCBQMECQMBBgIEAQEBAQ==",
          "dtype": "i1"
         },
         "yaxis": "y"
        },
        {
         "hovertemplate": "page=Jean-Luc Mélenchon<br>Date=%{x}<br>Éditions/jour=%{y}<extra></extra>",
         "legendgroup": "Jean-Luc Mélenchon",
         "line": {
          "color": "#00cc96",
          "dash": "solid"
         },
         "marker": {
          "symbol": "circle"
         },
         "mode": "lines",
         "name": "Jean-Luc Mélenchon",
         "orientation": "v",
         "showlegend": true,
         "type": "scatter",
         "x": [
          "2025-01-01T00:00:00",
          "2025-01-09T00:00:00",
          "2025-01-10T00:00:00",
          "2025-01-16T00:00:00",
          "2025-01-17T00:00:00",
          "2025-01-19T00:00:00",
          "2025-01-20T00:00:00",
          "2025-01-21T00:00:00",
          "2025-01-24T00:00:00",
          "2025-01-25T00:00:00",
          "2025-01-27T00:00:00",
          "2025-02-13T00:00:00",
          "2025-02-23T00:00:00",
          "2025-03-04T00:00:00",
          "2025-03-13T00:00:00",
          "2025-03-28T00:00:00",
          "2025-04-01T00:00:00",
          "2025-04-29T00:00:00"
         ],
         "xaxis": "x",
         "y": {
          "bdata": "AQIEAQMDAgICAgIEAQEBAwED",
          "dtype": "i1"
         },
         "yaxis": "y"
        }
       ],
       "layout": {
        "legend": {
         "title": {
          "text": "page"
         },
         "tracegroupgap": 0
        },
        "template": {
         "data": {
          "bar": [
           {
            "error_x": {
             "color": "#2a3f5f"
            },
            "error_y": {
             "color": "#2a3f5f"
            },
            "marker": {
             "line": {
              "color": "#E5ECF6",
              "width": 0.5
             },
             "pattern": {
              "fillmode": "overlay",
              "size": 10,
              "solidity": 0.2
             }
            },
            "type": "bar"
           }
          ],
          "barpolar": [
           {
            "marker": {
             "line": {
              "color": "#E5ECF6",
              "width": 0.5
             },
             "pattern": {
              "fillmode": "overlay",
              "size": 10,
              "solidity": 0.2
             }
            },
            "type": "barpolar"
           }
          ],
          "carpet": [
           {
            "aaxis": {
             "endlinecolor": "#2a3f5f",
             "gridcolor": "white",
             "linecolor": "white",
             "minorgridcolor": "white",
             "startlinecolor": "#2a3f5f"
            },
            "baxis": {
             "endlinecolor": "#2a3f5f",
             "gridcolor": "white",
             "linecolor": "white",
             "minorgridcolor": "white",
             "startlinecolor": "#2a3f5f"
            },
            "type": "carpet"
           }
          ],
          "choropleth": [
           {
            "colorbar": {
             "outlinewidth": 0,
             "ticks": ""
            },
            "type": "choropleth"
           }
          ],
          "contour": [
           {
            "colorbar": {
             "outlinewidth": 0,
             "ticks": ""
            },
            "colorscale": [
             [
              0,
              "#0d0887"
             ],
             [
              0.1111111111111111,
              "#46039f"
             ],
             [
              0.2222222222222222,
              "#7201a8"
             ],
             [
              0.3333333333333333,
              "#9c179e"
             ],
             [
              0.4444444444444444,
              "#bd3786"
             ],
             [
              0.5555555555555556,
              "#d8576b"
             ],
             [
              0.6666666666666666,
              "#ed7953"
             ],
             [
              0.7777777777777778,
              "#fb9f3a"
             ],
             [
              0.8888888888888888,
              "#fdca26"
             ],
             [
              1,
              "#f0f921"
             ]
            ],
            "type": "contour"
           }
          ],
          "contourcarpet": [
           {
            "colorbar": {
             "outlinewidth": 0,
             "ticks": ""
            },
            "type": "contourcarpet"
           }
          ],
          "heatmap": [
           {
            "colorbar": {
             "outlinewidth": 0,
             "ticks": ""
            },
            "colorscale": [
             [
              0,
              "#0d0887"
             ],
             [
              0.1111111111111111,
              "#46039f"
             ],
             [
              0.2222222222222222,
              "#7201a8"
             ],
             [
              0.3333333333333333,
              "#9c179e"
             ],
             [
              0.4444444444444444,
              "#bd3786"
             ],
             [
              0.5555555555555556,
              "#d8576b"
             ],
             [
              0.6666666666666666,
              "#ed7953"
             ],
             [
              0.7777777777777778,
              "#fb9f3a"
             ],
             [
              0.8888888888888888,
              "#fdca26"
             ],
             [
              1,
              "#f0f921"
             ]
            ],
            "type": "heatmap"
           }
          ],
          "histogram": [
           {
            "marker": {
             "pattern": {
              "fillmode": "overlay",
              "size": 10,
              "solidity": 0.2
             }
            },
            "type": "histogram"
           }
          ],
          "histogram2d": [
           {
            "colorbar": {
             "outlinewidth": 0,
             "ticks": ""
            },
            "colorscale": [
             [
              0,
              "#0d0887"
             ],
             [
              0.1111111111111111,
              "#46039f"
             ],
             [
              0.2222222222222222,
              "#7201a8"
             ],
             [
              0.3333333333333333,
              "#9c179e"
             ],
             [
              0.4444444444444444,
              "#bd3786"
             ],
             [
              0.5555555555555556,
              "#d8576b"
             ],
             [
              0.6666666666666666,
              "#ed7953"
             ],
             [
              0.7777777777777778,
              "#fb9f3a"
             ],
             [
              0.8888888888888888,
              "#fdca26"
             ],
             [
              1,
              "#f0f921"
             ]
            ],
            "type": "histogram2d"
           }
          ],
          "histogram2dcontour": [
           {
            "colorbar": {
             "outlinewidth": 0,
             "ticks": ""
            },
            "colorscale": [
             [
              0,
              "#0d0887"
             ],
             [
              0.1111111111111111,
              "#46039f"
             ],
             [
              0.2222222222222222,
              "#7201a8"
             ],
             [
              0.3333333333333333,
              "#9c179e"
             ],
             [
              0.4444444444444444,
              "#bd3786"
             ],
             [
              0.5555555555555556,
              "#d8576b"
             ],
             [
              0.6666666666666666,
              "#ed7953"
             ],
             [
              0.7777777777777778,
              "#fb9f3a"
             ],
             [
              0.8888888888888888,
              "#fdca26"
             ],
             [
              1,
              "#f0f921"
             ]
            ],
            "type": "histogram2dcontour"
           }
          ],
          "mesh3d": [
           {
            "colorbar": {
             "outlinewidth": 0,
             "ticks": ""
            },
            "type": "mesh3d"
           }
          ],
          "parcoords": [
           {
            "line": {
             "colorbar": {
              "outlinewidth": 0,
              "ticks": ""
             }
            },
            "type": "parcoords"
           }
          ],
          "pie": [
           {
            "automargin": true,
            "type": "pie"
           }
          ],
          "scatter": [
           {
            "fillpattern": {
             "fillmode": "overlay",
             "size": 10,
             "solidity": 0.2
            },
            "type": "scatter"
           }
          ],
          "scatter3d": [
           {
            "line": {
             "colorbar": {
              "outlinewidth": 0,
              "ticks": ""
             }
            },
            "marker": {
             "colorbar": {
              "outlinewidth": 0,
              "ticks": ""
             }
            },
            "type": "scatter3d"
           }
          ],
          "scattercarpet": [
           {
            "marker": {
             "colorbar": {
              "outlinewidth": 0,
              "ticks": ""
             }
            },
            "type": "scattercarpet"
           }
          ],
          "scattergeo": [
           {
            "marker": {
             "colorbar": {
              "outlinewidth": 0,
              "ticks": ""
             }
            },
            "type": "scattergeo"
           }
          ],
          "scattergl": [
           {
            "marker": {
             "colorbar": {
              "outlinewidth": 0,
              "ticks": ""
             }
            },
            "type": "scattergl"
           }
          ],
          "scattermap": [
           {
            "marker": {
             "colorbar": {
              "outlinewidth": 0,
              "ticks": ""
             }
            },
            "type": "scattermap"
           }
          ],
          "scattermapbox": [
           {
            "marker": {
             "colorbar": {
              "outlinewidth": 0,
              "ticks": ""
             }
            },
            "type": "scattermapbox"
           }
          ],
          "scatterpolar": [
           {
            "marker": {
             "colorbar": {
              "outlinewidth": 0,
              "ticks": ""
             }
            },
            "type": "scatterpolar"
           }
          ],
          "scatterpolargl": [
           {
            "marker": {
             "colorbar": {
              "outlinewidth": 0,
              "ticks": ""
             }
            },
            "type": "scatterpolargl"
           }
          ],
          "scatterternary": [
           {
            "marker": {
             "colorbar": {
              "outlinewidth": 0,
              "ticks": ""
             }
            },
            "type": "scatterternary"
           }
          ],
          "surface": [
           {
            "colorbar": {
             "outlinewidth": 0,
             "ticks": ""
            },
            "colorscale": [
             [
              0,
              "#0d0887"
             ],
             [
              0.1111111111111111,
              "#46039f"
             ],
             [
              0.2222222222222222,
              "#7201a8"
             ],
             [
              0.3333333333333333,
              "#9c179e"
             ],
             [
              0.4444444444444444,
              "#bd3786"
             ],
             [
              0.5555555555555556,
              "#d8576b"
             ],
             [
              0.6666666666666666,
              "#ed7953"
             ],
             [
              0.7777777777777778,
              "#fb9f3a"
             ],
             [
              0.8888888888888888,
              "#fdca26"
             ],
             [
              1,
              "#f0f921"
             ]
            ],
            "type": "surface"
           }
          ],
          "table": [
           {
            "cells": {
             "fill": {
              "color": "#EBF0F8"
             },
             "line": {
              "color": "white"
             }
            },
            "header": {
             "fill": {
              "color": "#C8D4E3"
             },
             "line": {
              "color": "white"
             }
            },
            "type": "table"
           }
          ]
         },
         "layout": {
          "annotationdefaults": {
           "arrowcolor": "#2a3f5f",
           "arrowhead": 0,
           "arrowwidth": 1
          },
          "autotypenumbers": "strict",
          "coloraxis": {
           "colorbar": {
            "outlinewidth": 0,
            "ticks": ""
           }
          },
          "colorscale": {
           "diverging": [
            [
             0,
             "#8e0152"
            ],
            [
             0.1,
             "#c51b7d"
            ],
            [
             0.2,
             "#de77ae"
            ],
            [
             0.3,
             "#f1b6da"
            ],
            [
             0.4,
             "#fde0ef"
            ],
            [
             0.5,
             "#f7f7f7"
            ],
            [
             0.6,
             "#e6f5d0"
            ],
            [
             0.7,
             "#b8e186"
            ],
            [
             0.8,
             "#7fbc41"
            ],
            [
             0.9,
             "#4d9221"
            ],
            [
             1,
             "#276419"
            ]
           ],
           "sequential": [
            [
             0,
             "#0d0887"
            ],
            [
             0.1111111111111111,
             "#46039f"
            ],
            [
             0.2222222222222222,
             "#7201a8"
            ],
            [
             0.3333333333333333,
             "#9c179e"
            ],
            [
             0.4444444444444444,
             "#bd3786"
            ],
            [
             0.5555555555555556,
             "#d8576b"
            ],
            [
             0.6666666666666666,
             "#ed7953"
            ],
            [
             0.7777777777777778,
             "#fb9f3a"
            ],
            [
             0.8888888888888888,
             "#fdca26"
            ],
            [
             1,
             "#f0f921"
            ]
           ],
           "sequentialminus": [
            [
             0,
             "#0d0887"
            ],
            [
             0.1111111111111111,
             "#46039f"
            ],
            [
             0.2222222222222222,
             "#7201a8"
            ],
            [
             0.3333333333333333,
             "#9c179e"
            ],
            [
             0.4444444444444444,
             "#bd3786"
            ],
            [
             0.5555555555555556,
             "#d8576b"
            ],
            [
             0.6666666666666666,
             "#ed7953"
            ],
            [
             0.7777777777777778,
             "#fb9f3a"
            ],
            [
             0.8888888888888888,
             "#fdca26"
            ],
            [
             1,
             "#f0f921"
            ]
           ]
          },
          "colorway": [
           "#636efa",
           "#EF553B",
           "#00cc96",
           "#ab63fa",
           "#FFA15A",
           "#19d3f3",
           "#FF6692",
           "#B6E880",
           "#FF97FF",
           "#FECB52"
          ],
          "font": {
           "color": "#2a3f5f"
          },
          "geo": {
           "bgcolor": "white",
           "lakecolor": "white",
           "landcolor": "#E5ECF6",
           "showlakes": true,
           "showland": true,
           "subunitcolor": "white"
          },
          "hoverlabel": {
           "align": "left"
          },
          "hovermode": "closest",
          "mapbox": {
           "style": "light"
          },
          "paper_bgcolor": "white",
          "plot_bgcolor": "#E5ECF6",
          "polar": {
           "angularaxis": {
            "gridcolor": "white",
            "linecolor": "white",
            "ticks": ""
           },
           "bgcolor": "#E5ECF6",
           "radialaxis": {
            "gridcolor": "white",
            "linecolor": "white",
            "ticks": ""
           }
          },
          "scene": {
           "xaxis": {
            "backgroundcolor": "#E5ECF6",
            "gridcolor": "white",
            "gridwidth": 2,
            "linecolor": "white",
            "showbackground": true,
            "ticks": "",
            "zerolinecolor": "white"
           },
           "yaxis": {
            "backgroundcolor": "#E5ECF6",
            "gridcolor": "white",
            "gridwidth": 2,
            "linecolor": "white",
            "showbackground": true,
            "ticks": "",
            "zerolinecolor": "white"
           },
           "zaxis": {
            "backgroundcolor": "#E5ECF6",
            "gridcolor": "white",
            "gridwidth": 2,
            "linecolor": "white",
            "showbackground": true,
            "ticks": "",
            "zerolinecolor": "white"
           }
          },
          "shapedefaults": {
           "line": {
            "color": "#2a3f5f"
           }
          },
          "ternary": {
           "aaxis": {
            "gridcolor": "white",
            "linecolor": "white",
            "ticks": ""
           },
           "baxis": {
            "gridcolor": "white",
            "linecolor": "white",
            "ticks": ""
           },
           "bgcolor": "#E5ECF6",
           "caxis": {
            "gridcolor": "white",
            "linecolor": "white",
            "ticks": ""
           }
          },
          "title": {
           "x": 0.05
          },
          "xaxis": {
           "automargin": true,
           "gridcolor": "white",
           "linecolor": "white",
           "ticks": "",
           "title": {
            "standoff": 15
           },
           "zerolinecolor": "white",
           "zerolinewidth": 2
          },
          "yaxis": {
           "automargin": true,
           "gridcolor": "white",
           "linecolor": "white",
           "ticks": "",
           "title": {
            "standoff": 15
           },
           "zerolinecolor": "white",
           "zerolinewidth": 2
          }
         }
        },
        "title": {
         "text": "Évol. du nb. d’éditions — fr.wikipedia.org"
        },
        "xaxis": {
         "anchor": "y",
         "domain": [
          0,
          1
         ],
         "title": {
          "text": "Date"
         }
        },
        "yaxis": {
         "anchor": "x",
         "domain": [
          0,
          1
         ],
         "title": {
          "text": "Éditions/jour"
         }
        }
       }
      }
     },
     "metadata": {},
     "output_type": "display_data"
    }
   ],
   "source": [
    "\n",
    "# Exécution\n",
    "df = fetch_edit_pages(site, pages, start, end, editor)\n",
    "fig = px.line(df, x=\"date\", y=\"edits\", color=\"page\",\n",
    "              title=f\"Évol. du nb. d’éditions — {site}\",\n",
    "              labels={\"edits\": \"Éditions/jour\", \"date\": \"Date\"})\n",
    "fig.show()\n",
    "\n",
    "\n",
    "\n",
    "\n",
    "\n"
   ]
  }
 ],
 "metadata": {
  "kernelspec": {
   "display_name": "mon_env",
   "language": "python",
   "name": "python3"
  },
  "language_info": {
   "codemirror_mode": {
    "name": "ipython",
    "version": 3
   },
   "file_extension": ".py",
   "mimetype": "text/x-python",
   "name": "python",
   "nbconvert_exporter": "python",
   "pygments_lexer": "ipython3",
   "version": "3.12.3"
  }
 },
 "nbformat": 4,
 "nbformat_minor": 5
}
